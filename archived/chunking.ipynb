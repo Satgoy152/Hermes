{
 "cells": [
  {
   "cell_type": "code",
   "execution_count": 5,
   "metadata": {},
   "outputs": [
    {
     "name": "stderr",
     "output_type": "stream",
     "text": [
      "/Users/satyamgoyal/anaconda3/envs/hermes/lib/python3.9/site-packages/tqdm/auto.py:21: TqdmWarning: IProgress not found. Please update jupyter and ipywidgets. See https://ipywidgets.readthedocs.io/en/stable/user_install.html\n",
      "  from .autonotebook import tqdm as notebook_tqdm\n"
     ]
    },
    {
     "name": "stdout",
     "output_type": "stream",
     "text": [
      "Vector store created successfully with 6393 chunks.\n"
     ]
    }
   ],
   "source": [
    "import os\n",
    "import glob\n",
    "import pandas as pd\n",
    "import PyPDF2\n",
    "from dotenv import load_dotenv, get_key\n",
    "from langchain_text_splitters import RecursiveCharacterTextSplitter\n",
    "from langchain.docstore.document import Document\n",
    "from chromadb import PersistentClient, Settings\n",
    "from langchain.vectorstores import Chroma\n",
    "from langchain_voyageai import VoyageAIEmbeddings  # adjust the import as per your package\n",
    "\n",
    "# Load environment variables from .env\n",
    "load_dotenv()\n",
    "VOYAGEAI_KEY = get_key(dotenv_path=\".env\", key_to_get=\"VOYAGEAI_KEY\")\n",
    "\n",
    "def load_documents_from_directory(directory):\n",
    "    \"\"\"\n",
    "    Load documents from a directory. Supports TXT, CSV, and PDF files.\n",
    "    Returns a list of Document objects with page_content and metadata.\n",
    "    \"\"\"\n",
    "    documents = []\n",
    "    for filepath in glob.glob(os.path.join(directory, \"*\")):\n",
    "        ext = os.path.splitext(filepath)[1].lower()\n",
    "        if ext == \".txt\":\n",
    "            with open(filepath, \"r\", encoding=\"utf-8\") as f:\n",
    "                content = f.read()\n",
    "            documents.append(Document(page_content=content, metadata={\"source\": filepath}))\n",
    "        elif ext == \".csv\":\n",
    "            # Read CSV with pandas and convert to CSV string\n",
    "            df = pd.read_csv(filepath)\n",
    "            content = df.to_csv(index=False)\n",
    "            documents.append(Document(page_content=content, metadata={\"source\": filepath}))\n",
    "        elif ext == \".pdf\":\n",
    "            content = \"\"\n",
    "            with open(filepath, \"rb\") as f:\n",
    "                reader = PyPDF2.PdfReader(f)\n",
    "                for page in reader.pages:\n",
    "                    text = page.extract_text()\n",
    "                    if text:\n",
    "                        content += text + \"\\n\"\n",
    "            documents.append(Document(page_content=content, metadata={\"source\": filepath}))\n",
    "        # Extend for other file types if needed.\n",
    "    return documents\n",
    "\n",
    "# Load all documents from the specified directory\n",
    "docs_directory = \"./rag_docs\"\n",
    "documents = load_documents_from_directory(docs_directory)\n",
    "\n",
    "# Initialize a RecursiveCharacterTextSplitter for chunking\n",
    "text_splitter = RecursiveCharacterTextSplitter(\n",
    "    chunk_size=1000,      # Adjust chunk size as needed\n",
    "    chunk_overlap=200     # Overlap helps maintain context between chunks\n",
    ")\n",
    "\n",
    "# Loop through each document and split it into chunks\n",
    "combined_chunks = []\n",
    "for doc in documents:\n",
    "    chunks = text_splitter.split_text(doc.page_content)\n",
    "    for chunk in chunks:\n",
    "        # Each chunk is stored as a Document with the original metadata\n",
    "        combined_chunks.append(Document(page_content=chunk, metadata=doc.metadata))\n",
    "\n",
    "# Set up the persistent Chroma client\n",
    "DEFAULT_TENANT = \"default_tenant\"\n",
    "DEFAULT_DATABASE = \"default_database\"\n",
    "new_client = PersistentClient(\n",
    "    path=\"./chroma_db\",\n",
    "    tenant=DEFAULT_TENANT,\n",
    "    database=DEFAULT_DATABASE,\n",
    "    settings=Settings()\n",
    ")\n",
    "\n",
    "# Initialize VoyageAIEmbeddings with the API key and desired model\n",
    "embeddings = VoyageAIEmbeddings(\n",
    "    voyage_api_key=VOYAGEAI_KEY,\n",
    "    model=\"voyage-large-2-instruct\"\n",
    ")\n",
    "\n",
    "# Create a Chroma vector store from the chunked documents\n",
    "vectorstore = Chroma.from_documents(\n",
    "    documents=combined_chunks,\n",
    "    embedding=embeddings,\n",
    "    collection_name=\"umich_wn2025\",\n",
    "    client=new_client\n",
    ")\n",
    "\n",
    "print(\"Vector store created successfully with\", len(combined_chunks), \"chunks.\")"
   ]
  },
  {
   "cell_type": "code",
   "execution_count": 5,
   "metadata": {},
   "outputs": [
    {
     "name": "stdout",
     "output_type": "stream",
     "text": [
      "Initialized Chroma vector store.\n"
     ]
    }
   ],
   "source": [
    "from interaction import get_context_from_vector_db\n",
    "\n",
    "user_input = \"computer science\"\n",
    "context = get_context_from_vector_db(user_input)"
   ]
  },
  {
   "cell_type": "code",
   "execution_count": 6,
   "metadata": {},
   "outputs": [
    {
     "data": {
      "text/plain": [
       "'Winter 2025,Regular Academic Session,Engineering,33203,Electrical Engineering And Computer Science (EECS), 370,5,Intro Computer Org,LEC,S R ,,,,,,,,01/08/2025,04/22/2025,ARR,ARR,\"Manerkar, Brehob\",4.00,\\nWinter 2025,Regular Academic Session,Engineering,16029,Electrical Engineering And Computer Science (EECS), 370,11,Intro Computer Org,LAB,P R ,,,,,F,,,01/08/2025,04/22/2025,130-330PM,104 EWRE,Barstys,4.00,\\nWinter 2025,Regular Academic Session,Engineering,10655,Electrical Engineering And Computer Science (EECS), 370,12,Intro Computer Org,LAB,P RW,M,,,,,,,01/08/2025,04/22/2025,430-630PM,138 NAME,Chlachidze,4.00,\\nWinter 2025,Regular Academic Session,Engineering,10656,Electrical Engineering And Computer Science (EECS), 370,13,Intro Computer Org,LAB,P RW,,,,,F,,,01/08/2025,04/22/2025,1030-1230PM,1003 EECS,Vibhatasilpin,4.00,\\nWinter 2025,Regular Academic Session,Engineering,30090,Computer Science and Engineering (CSE), 583,1,Advanced Compilers,LEC,P  W,,,W,,,,,01/08/2025,04/22/2025,130-230PM,1013 DOW,,4.00,\\nWinter 2025,Regular Academic Session,Engineering,34821,Computer Science and Engineering (CSE), 584,1,Adv Dbase Sys,LEC,P  W,,T,,TH,,,,01/08/2025,04/22/2025,130-330PM,2150 DOW,\"Ma, Liu\",4.00,\\nWinter 2025,Regular Academic Session,Engineering,10697,Computer Science and Engineering (CSE), 586,1,Algorithms,LEC,A R ,M,,W,,,,,01/08/2025,04/22/2025,12-130PM,1008 FXB,Stout,4.00,\\nWinter 2025,Regular Academic Session,Engineering,16309,Computer Science and Engineering (CSE), 586,11,Algorithms,DIS,P RW,,,,,F,,,01/08/2025,04/22/2025,130-230PM,2166 DOW,Ayyadevara,4.00,\\nWinter 2025,Regular Academic Session,Engineering,31947,Computer Science and Engineering (CSE), 588,1,Comp Netwk Security,LEC,P  W,M,,W,,,,,01/08/2025,04/22/2025,130-330PM,1005 EECS,\"Ensafi, Xue\",4.00,\\nWinter 2025,Regular Academic Session,Engineering,31106,Electrical Engineering And Computer Science (EECS), 390,1,Prog Paradigms,LEC,S R ,M,,W,,,,,01/08/2025,04/22/2025,130-3PM,3150 DOW,Kamil,4.00,\\nWinter 2025,Regular Academic Session,Engineering,27796,Electrical Engineering And Computer Science (EECS), 390,11,Prog Paradigms,LAB,P RW,,,,,F,,,01/08/2025,04/22/2025,1130-130PM,133 CHRYS,Liebman,4.00,\\nWinter 2025,Regular Academic Session,Engineering,27797,Electrical Engineering And Computer Science (EECS), 390,12,Prog Paradigms,LAB,P RW,,,,,F,,,01/08/2025,04/22/2025,130-330PM,136 EWRE,Liebman,4.00,\\nWinter 2025,Regular Academic Session,Engineering,32619,Electrical Engineering And Computer Science (EECS), 390,99,Prog Paradigms,MID,A RW,,,,,,,, , ,ARR,ARR,,4.00,\\nWinter 2025,Regular Academic Session,Engineering,29666,Electrical Engineering And Computer Science (EECS), 398,1,Special Topics,LEC,P  W,,T,,TH,,,,01/08/2025,04/22/2025,1030-12PM,1012 EECS,\"Guo, Zhang\",3.00-4.00,\\nWinter 2025,Regular Academic Session,Engineering,20883,Electrical Engineering And Computer Science (EECS), 482,16,Intro Oper System,LAB,P RW,,,,,F,,,01/08/2025,04/22/2025,230-430PM,1130 LBME,\"Bansal, Tang\",4.00,\\nWinter 2025,Regular Academic Session,Engineering,22042,Electrical Engineering And Computer Science (EECS), 483,1,Compiler Constr,LEC,P RW,M,,W,,,,,01/08/2025,04/22/2025,130-3PM,1010 DOW,\"New, Mekhtiev, Jiang\",4.00,\\nWinter 2025,Regular Academic Session,Engineering,22042,Electrical Engineering And Computer Science (EECS), 483,1,Compiler Constr,LEC,P RW,,,,,F,,,01/08/2025,04/22/2025,1230-130PM,1060 FMCRB,,4.00,\\nWinter 2025,Regular Academic Session,Engineering,24071,Electrical Engineering And Computer Science (EECS), 484,1,Database Mgt Syst,LEC,S R ,,T,,TH,,,,01/08/2025,04/22/2025,1030-12PM,1670 BEYSTER,\"Mozafari, Jiang, Shang, Disorbo\",4.00,\\nWinter 2025,Regular Academic Session,Engineering,31121,Computer Science and Engineering (CSE), 590,1,Adv Prog Lang,LEC,A   ,M,,W,,,,,01/08/2025,04/22/2025,130-3PM,1008 FXB,Weimer,4.00,\\nWinter 2025,Regular Academic Session,Engineering,31122,Computer Science and Engineering (CSE), 590,11,Adv Prog Lang,DIS,P  W,M,,W,,,,,01/08/2025,04/22/2025,3-330PM,1008 FXB,Weimer,4.00,\\nWinter 2025,Regular Academic Session,Engineering,17824,Computer Science and Engineering (CSE), 592,1,AI Foundations,LEC,P RW,M,,W,,,,,01/08/2025,04/22/2025,130-3PM,G906 COOL,\"Bondi-Kelly, Boggs, Gu\",4.00,\\nWinter 2025,Regular Academic Session,Engineering,17824,Computer Science and Engineering (CSE), 592,1,AI Foundations,LEC,P RW,,,,,F,,,01/08/2025,04/22/2025,130-230PM,G906 COOL,,4.00,\\nWinter 2025,Regular Academic Session,Engineering,35407,Computer Science and Engineering (CSE), 593,1,HCI,LEC,P RW,,T,,TH,,,,01/08/2025,04/22/2025,3-430PM,2147 GGBL,\"Jahanbakhsh, Cao\",3.00,\\nWinter 2025,Regular Academic Session,Engineering,10653,Electrical Engineering And Computer Science (EECS), 370,1,Intro Computer Org,LEC,S R ,,T,,TH,,,,01/08/2025,04/22/2025,9-1030AM,1571 GGBL,Brehob,4.00,\\nWinter 2025,Regular Academic Session,Engineering,19899,Electrical Engineering And Computer Science (EECS), 370,2,Intro Computer Org,LEC,S R ,,T,,TH,,,,01/08/2025,04/22/2025,12-130PM,1109 FXB,Brehob,4.00,\\nWinter 2025,Regular Academic Session,Engineering,26862,Electrical Engineering And Computer Science (EECS), 370,3,Intro Computer Org,LEC,S R ,,T,,TH,,,,01/08/2025,04/22/2025,130-3PM,1109 FXB,Manerkar,4.00,\\nWinter 2025,Regular Academic Session,Engineering,10654,Electrical Engineering And Computer Science (EECS), 370,4,Intro Computer Org,LEC,S R ,,T,,TH,,,,01/08/2025,04/22/2025,3-430PM,1013 DOW,Brehob,4.00,\\nWinter 2025,Regular Academic Session,Engineering,26873,Electrical Engineering And Computer Science (EECS), 481,17,Software Engin,DIS,P RW,,,,TH,,,,01/08/2025,04/22/2025,430-530PM,1008 FXB,Liu,4.00,\\nWinter 2025,Regular Academic Session,Engineering,20363,Electrical Engineering And Computer Science (EECS), 482,1,Intro Oper System,LEC,S R ,M,,W,,,,,01/08/2025,04/22/2025,130-3PM,1610 IOE,\"Huang, Rahman, Tate, Peri, Bogda, Kapritsos\",4.00,\\nWinter 2025,Regular Academic Session,Engineering,31650,Electrical Engineering And Computer Science (EECS), 482,2,Intro Oper System,LEC,S R ,M,,W,,,,,01/08/2025,04/22/2025,430-6PM,2505 GGBL,\"Kapritsos, Peri, Rahman, Bogda, Tate, Huang\",4.00,\\nWinter 2025,Regular Academic Session,Engineering,10686,Electrical Engineering And Computer Science (EECS), 482,11,Intro Oper System,LAB,P RW,,,,,F,,,01/08/2025,04/22/2025,930-1130AM,185 EWRE,\"Kersten, Brinley\",4.00,\\nWinter 2025,Regular Academic Session,Engineering,26865,Electrical Engineering And Computer Science (EECS), 370,27,Intro Computer Org,LAB,P RW,M,,,,,,,01/08/2025,04/22/2025,430-630PM,107 GFL,Bailey,4.00,\\nWinter 2025,Regular Academic Session,Engineering,30376,Electrical Engineering And Computer Science (EECS), 370,29,Intro Computer Org,LAB,P RW,,T,,,,,,01/08/2025,04/22/2025,330-530PM,185 EWRE,Segal,4.00,\\nWinter 2025,Regular Academic Session,Engineering,30377,Electrical Engineering And Computer Science (EECS), 370,30,Intro Computer Org,LAB,P RW,M,,,,,,,01/08/2025,04/22/2025,230-430PM,2153 GGBL,Camp,4.00,\\nWinter 2025,Regular Academic Session,Engineering,33347,Electrical Engineering And Computer Science (EECS), 370,32,Intro Computer Org,LAB,P RW,M,,,,,,,01/08/2025,04/22/2025,930-1130AM,185 EWRE,Demissie,4.00,\\nWinter 2025,Regular Academic Session,Engineering,10657,Electrical Engineering And Computer Science (EECS), 370,14,Intro Computer Org,LAB,P RW,,,,,F,,,01/08/2025,04/22/2025,930-1130AM,104 EWRE,Muench,4.00,\\nWinter 2025,Regular Academic Session,Engineering,21662,Electrical Engineering And Computer Science (EECS), 370,15,Intro Computer Org,LAB,P RW,,,,,F,,,01/08/2025,04/22/2025,330-530PM,185 EWRE,Vibhatasilpin,4.00,\\nWinter 2025,Regular Academic Session,Engineering,18333,Electrical Engineering And Computer Science (EECS), 370,16,Intro Computer Org,LAB,P RW,,,,,F,,,01/08/2025,04/22/2025,1130-130PM,1130 LBME,Kamatham,4.00,\\nWinter 2025,Regular Academic Session,Engineering,18890,Electrical Engineering And Computer Science (EECS), 370,17,Intro Computer Org,LAB,P RW,,,,,F,,,01/08/2025,04/22/2025,230-430PM,2153 GGBL,Yin,4.00,\\nWinter 2025,Regular Academic Session,Engineering,33348,Electrical Engineering And Computer Science (EECS), 370,33,Intro Computer Org,LAB,P RW,M,,,,,,,01/08/2025,04/22/2025,530-730PM,1680 IOE,Park,4.00,\\nWinter 2025,Regular Academic Session,Engineering,33349,Electrical Engineering And Computer Science (EECS), 370,34,Intro Computer Org,LAB,P RW,,,,,F,,,01/08/2025,04/22/2025,1030-1230PM,1206 DOW,Alnassar,4.00,\\nWinter 2025,Regular Academic Session,Engineering,33350,Electrical Engineering And Computer Science (EECS), 370,35,Intro Computer Org,LAB,P RW,,,,,F,,,01/08/2025,04/22/2025,1230-230PM,1206 DOW,Yang,4.00,\\nWinter 2025,Regular Academic Session,Engineering,33351,Electrical Engineering And Computer Science (EECS), 370,36,Intro Computer Org,LAB,P RW,,,,,F,,,01/08/2025,04/22/2025,230-430PM,138 NAME,Liu,4.00,\\nWinter 2025,Regular Academic Session,Engineering,29611,Electrical Engineering And Computer Science (EECS), 280,5,Prog&Data Struct,LEC,S R ,M,,W,,,,,01/08/2025,04/22/2025,430-6PM,1013 DOW,Bogaerts,4.00,\\nWinter 2025,Regular Academic Session,Engineering,26860,Electrical Engineering And Computer Science (EECS), 280,6,Prog&Data Struct,LEC,S R ,,,,,,,,01/08/2025,04/22/2025,ARR,ARR,Juett,4.00,\\nWinter 2025,Regular Academic Session,Engineering,10642,Electrical Engineering And Computer Science (EECS), 280,11,Prog&Data Struct,LAB,P RW,,,W,,,,,01/08/2025,04/22/2025,12-2PM,G026 TISCH,MacKercher,4.00,\\nWinter 2025,Regular Academic Session,Engineering,10643,Electrical Engineering And Computer Science (EECS), 280,12,Prog&Data Struct,LAB,P RW,,T,,,,,,01/08/2025,04/22/2025,11-1PM,1567 NUB,Samuel,4.00,\\nWinter 2025,Regular Academic Session,Engineering,10644,Electrical Engineering And Computer Science (EECS), 280,13,Prog&Data Struct,LAB,P RW,,,W,,,,,01/08/2025,04/22/2025,1-3PM,2752 SSWB,Fick,4.00,\\nWinter 2025,Regular Academic Session,Engineering,23262,Electrical Engineering And Computer Science (EECS), 280,42,Prog&Data Struct,LAB,P RW,,,,,F,,,01/08/2025,04/22/2025,330-530PM,2166 DOW,Janiga,4.00,\\nWinter 2025,Regular Academic Session,Engineering,23277,Electrical Engineering And Computer Science (EECS), 280,43,Prog&Data Struct,LAB,P RW,,,,,F,,,01/08/2025,04/22/2025,230-430PM,1200 EECS,\"Halucha, Wang\",4.00,\\nWinter 2025,Regular Academic Session,Engineering,38131,Electrical Engineering And Computer Science (EECS), 280,99,Prog&Data Struct,MID,A R ,,,,,,,,01/08/2025,04/22/2025,ARR,ARR,,4.00,\\nWinter 2025,Regular Academic Session,Engineering,18140,Electrical Engineering And Computer Science (EECS), 281,1,Data Struct&Algor,LEC,S R ,,T,,TH,,,,01/08/2025,04/22/2025,1030-12PM,220 CHRYS,Darden,4.00,\\nWinter 2025,Regular Academic Session,Engineering,20597,Electrical Engineering And Computer Science (EECS), 376,2,Foundatns Comp Sci,LEC,S R ,M,,W,,,,,01/08/2025,04/22/2025,130-3PM,STAMPS,Graetz,4.00,\\nWinter 2025,Regular Academic Session,Engineering,24833,Electrical Engineering And Computer Science (EECS), 376,3,Foundatns Comp Sci,LEC,S R ,M,,W,,,,,01/08/2025,04/22/2025,130-3PM,STAMPS,Graetz,4.00,\\nWinter 2025,Regular Academic Session,Engineering,26866,Electrical Engineering And Computer Science (EECS), 376,4,Foundatns Comp Sci,LEC,S R ,M,,W,,,,,01/08/2025,04/22/2025,430-6PM,1571 GGBL,Derezinski,4.00,\\nWinter 2025,Regular Academic Session,Engineering,10684,Electrical Engineering And Computer Science (EECS), 376,11,Foundatns Comp Sci,DIS,P RW,,,,,F,,,01/08/2025,04/22/2025,1030-1130AM,2166 DOW,Shagrithaya,4.00,\\nWinter 2025,Regular Academic Session,Engineering,22179,Electrical Engineering And Computer Science (EECS), 370,22,Intro Computer Org,LAB,P RW,M,,,,,,,01/08/2025,04/22/2025,430-630PM,2166 DOW,Aldea,4.00,\\nWinter 2025,Regular Academic Session,Engineering,23237,Electrical Engineering And Computer Science (EECS), 370,23,Intro Computer Org,LAB,P RW,M,,,,,,,01/08/2025,04/22/2025,330-530PM,3150 DOW,Demissie,4.00,\\nWinter 2025,Regular Academic Session,Engineering,23800,Electrical Engineering And Computer Science (EECS), 370,24,Intro Computer Org,LAB,P RW,M,,,,,,,01/08/2025,04/22/2025,430-630PM,1014 DOW,Kamatham,4.00,\\nWinter 2025,Regular Academic Session,Engineering,26864,Electrical Engineering And Computer Science (EECS), 370,26,Intro Computer Org,LAB,P RW,M,,,,,,,01/08/2025,04/22/2025,430-630PM,1940 COOL,Hsieh,4.00,\\nWinter 2025,Regular Academic Session,Engineering,10641,Electrical Engineering And Computer Science (EECS), 280,1,Prog&Data Struct,LEC,S R ,M,,W,,,,,01/08/2025,04/22/2025,1130-1PM,1230 USB,Juett,4.00,\\nWinter 2025,Regular Academic Session,Engineering,29610,Electrical Engineering And Computer Science (EECS), 280,2,Prog&Data Struct,LEC,S R ,M,,W,,,,,01/08/2025,04/22/2025,130-3PM,2505 GGBL,Razak,4.00,\\nWinter 2025,Regular Academic Session,Engineering,10646,Electrical Engineering And Computer Science (EECS), 280,3,Prog&Data Struct,LEC,S R ,M,,W,,,,,01/08/2025,04/22/2025,12-130PM,STAMPS,Saleem,4.00,\\nWinter 2025,Regular Academic Session,Engineering,21503,Electrical Engineering And Computer Science (EECS), 280,4,Prog&Data Struct,LEC,S R ,M,,W,,,,,01/08/2025,04/22/2025,3-430PM,1013 DOW,Bogaerts,4.00,'"
      ]
     },
     "execution_count": 6,
     "metadata": {},
     "output_type": "execute_result"
    }
   ],
   "source": [
    "context"
   ]
  }
 ],
 "metadata": {
  "kernelspec": {
   "display_name": "hermes",
   "language": "python",
   "name": "python3"
  },
  "language_info": {
   "codemirror_mode": {
    "name": "ipython",
    "version": 3
   },
   "file_extension": ".py",
   "mimetype": "text/x-python",
   "name": "python",
   "nbconvert_exporter": "python",
   "pygments_lexer": "ipython3",
   "version": "3.9.21"
  }
 },
 "nbformat": 4,
 "nbformat_minor": 2
}
