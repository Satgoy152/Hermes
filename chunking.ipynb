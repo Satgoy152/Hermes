{
 "cells": [
  {
   "cell_type": "code",
   "execution_count": 5,
   "metadata": {},
   "outputs": [
    {
     "name": "stderr",
     "output_type": "stream",
     "text": [
      "/Users/satyamgoyal/anaconda3/envs/hermes/lib/python3.9/site-packages/tqdm/auto.py:21: TqdmWarning: IProgress not found. Please update jupyter and ipywidgets. See https://ipywidgets.readthedocs.io/en/stable/user_install.html\n",
      "  from .autonotebook import tqdm as notebook_tqdm\n"
     ]
    },
    {
     "name": "stdout",
     "output_type": "stream",
     "text": [
      "Vector store created successfully with 6393 chunks.\n"
     ]
    }
   ],
   "source": [
    "import os\n",
    "import glob\n",
    "import pandas as pd\n",
    "import PyPDF2\n",
    "from dotenv import load_dotenv, get_key\n",
    "from langchain_text_splitters import RecursiveCharacterTextSplitter\n",
    "from langchain.docstore.document import Document\n",
    "from chromadb import PersistentClient, Settings\n",
    "from langchain.vectorstores import Chroma\n",
    "from langchain_voyageai import VoyageAIEmbeddings  # adjust the import as per your package\n",
    "\n",
    "# Load environment variables from .env\n",
    "load_dotenv()\n",
    "VOYAGEAI_KEY = get_key(dotenv_path=\".env\", key_to_get=\"VOYAGEAI_KEY\")\n",
    "\n",
    "def load_documents_from_directory(directory):\n",
    "    \"\"\"\n",
    "    Load documents from a directory. Supports TXT, CSV, and PDF files.\n",
    "    Returns a list of Document objects with page_content and metadata.\n",
    "    \"\"\"\n",
    "    documents = []\n",
    "    for filepath in glob.glob(os.path.join(directory, \"*\")):\n",
    "        ext = os.path.splitext(filepath)[1].lower()\n",
    "        if ext == \".txt\":\n",
    "            with open(filepath, \"r\", encoding=\"utf-8\") as f:\n",
    "                content = f.read()\n",
    "            documents.append(Document(page_content=content, metadata={\"source\": filepath}))\n",
    "        elif ext == \".csv\":\n",
    "            # Read CSV with pandas and convert to CSV string\n",
    "            df = pd.read_csv(filepath)\n",
    "            content = df.to_csv(index=False)\n",
    "            documents.append(Document(page_content=content, metadata={\"source\": filepath}))\n",
    "        elif ext == \".pdf\":\n",
    "            content = \"\"\n",
    "            with open(filepath, \"rb\") as f:\n",
    "                reader = PyPDF2.PdfReader(f)\n",
    "                for page in reader.pages:\n",
    "                    text = page.extract_text()\n",
    "                    if text:\n",
    "                        content += text + \"\\n\"\n",
    "            documents.append(Document(page_content=content, metadata={\"source\": filepath}))\n",
    "        # Extend for other file types if needed.\n",
    "    return documents\n",
    "\n",
    "# Load all documents from the specified directory\n",
    "docs_directory = \"./rag_docs\"\n",
    "documents = load_documents_from_directory(docs_directory)\n",
    "\n",
    "# Initialize a RecursiveCharacterTextSplitter for chunking\n",
    "text_splitter = RecursiveCharacterTextSplitter(\n",
    "    chunk_size=1000,      # Adjust chunk size as needed\n",
    "    chunk_overlap=200     # Overlap helps maintain context between chunks\n",
    ")\n",
    "\n",
    "# Loop through each document and split it into chunks\n",
    "combined_chunks = []\n",
    "for doc in documents:\n",
    "    chunks = text_splitter.split_text(doc.page_content)\n",
    "    for chunk in chunks:\n",
    "        # Each chunk is stored as a Document with the original metadata\n",
    "        combined_chunks.append(Document(page_content=chunk, metadata=doc.metadata))\n",
    "\n",
    "# Set up the persistent Chroma client\n",
    "DEFAULT_TENANT = \"default_tenant\"\n",
    "DEFAULT_DATABASE = \"default_database\"\n",
    "new_client = PersistentClient(\n",
    "    path=\"./chroma_db\",\n",
    "    tenant=DEFAULT_TENANT,\n",
    "    database=DEFAULT_DATABASE,\n",
    "    settings=Settings()\n",
    ")\n",
    "\n",
    "# Initialize VoyageAIEmbeddings with the API key and desired model\n",
    "embeddings = VoyageAIEmbeddings(\n",
    "    voyage_api_key=VOYAGEAI_KEY,\n",
    "    model=\"voyage-large-2-instruct\"\n",
    ")\n",
    "\n",
    "# Create a Chroma vector store from the chunked documents\n",
    "vectorstore = Chroma.from_documents(\n",
    "    documents=combined_chunks,\n",
    "    embedding=embeddings,\n",
    "    collection_name=\"umich_wn2025\",\n",
    "    client=new_client\n",
    ")\n",
    "\n",
    "print(\"Vector store created successfully with\", len(combined_chunks), \"chunks.\")"
   ]
  }
 ],
 "metadata": {
  "kernelspec": {
   "display_name": "hermes",
   "language": "python",
   "name": "python3"
  },
  "language_info": {
   "codemirror_mode": {
    "name": "ipython",
    "version": 3
   },
   "file_extension": ".py",
   "mimetype": "text/x-python",
   "name": "python",
   "nbconvert_exporter": "python",
   "pygments_lexer": "ipython3",
   "version": "3.9.21"
  }
 },
 "nbformat": 4,
 "nbformat_minor": 2
}
